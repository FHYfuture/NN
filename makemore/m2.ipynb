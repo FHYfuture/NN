{
 "cells": [
  {
   "cell_type": "code",
   "execution_count": null,
   "id": "fb2e440a",
   "metadata": {},
   "outputs": [],
   "source": [
    "import torch\n",
    "import matplotlib.pyplot as plt\n",
    "import torch.nn.functional as F\n",
    "%matplotlib inline"
   ]
  },
  {
   "cell_type": "code",
   "execution_count": null,
   "id": "460149d1",
   "metadata": {},
   "outputs": [],
   "source": [
    "words=open(\"names.txt\",\"r\").read().splitlines()\n",
    "chars=['.']+sorted(list(set(\"\".join(words))))\n",
    "stoi={s:i for i,s in enumerate(chars)}\n",
    "itos={i:s for s,i in stoi.items()}"
   ]
  },
  {
   "cell_type": "code",
   "execution_count": null,
   "id": "e1db5970",
   "metadata": {},
   "outputs": [],
   "source": [
    "def build_dataset(words,block_size):\n",
    "    X,Y=[],[]\n",
    "    for w in words:\n",
    "        chs=w+'.'\n",
    "        context=[0]*block_size\n",
    "        for ch in chs:\n",
    "            ix=stoi[ch]\n",
    "            X.append(context)\n",
    "            Y.append(ix)\n",
    "            context=context[1:]+[ix]\n",
    "    X=torch.tensor(X)\n",
    "    Y=torch.tensor(Y)\n",
    "    return X,Y\n",
    "\n",
    "import random\n",
    "random.seed(42)\n",
    "random.shuffle(words)\n",
    "n1=int(0.8*len(words))\n",
    "n2=int(0.9*len(words))\n",
    "Xtr,Ytr=build_dataset(words[:n1],3)\n",
    "Xdev,Ydev=build_dataset(words[n1:n2],3)\n",
    "Xte,Yte=build_dataset(words[n2],3)\n"
   ]
  },
  {
   "cell_type": "code",
   "execution_count": null,
   "id": "2a650fb1",
   "metadata": {},
   "outputs": [],
   "source": [
    "g=torch.Generator().manual_seed(2147483647)\n",
    "C=torch.randn(27,10,generator=g)\n",
    "W1=torch.randn(30,200,generator=g)\n",
    "b1=torch.randn(200,generator=g)\n",
    "W2=torch.randn(200,27,generator=g)\n",
    "b2=torch.randn(27,generator=g)\n",
    "para=[C,W1,b1,W2,b2]\n",
    "for p in para:\n",
    "    p.requires_grad=True\n",
    "sum([p.nelement() for p in para])\n",
    "batch_size=32"
   ]
  },
  {
   "cell_type": "code",
   "execution_count": null,
   "id": "a70b2c4e",
   "metadata": {},
   "outputs": [],
   "source": [
    "index,lossi=[],[]\n",
    "for i in range(20000):\n",
    "    ix=torch.randint(0,Xtr.shape[0],(batch_size,))\n",
    "    emb=C[Xtr[ix]]\n",
    "    h=torch.tanh(emb.view(batch_size,-1)@W1+b1)\n",
    "    logits=h@W2+b2\n",
    "    loss=F.cross_entropy(logits,Ytr[ix])\n",
    "    index.append(i)\n",
    "    lossi.append(loss.item())\n",
    "    lr=0.1 if i<10000 else 0.01\n",
    "    for p in para:\n",
    "        p.grad=None\n",
    "    loss.backward()\n",
    "    for p in para:\n",
    "        p.data-=lr*p.grad"
   ]
  },
  {
   "cell_type": "code",
   "execution_count": null,
   "id": "211650c5",
   "metadata": {},
   "outputs": [],
   "source": [
    "plt.plot(index,lossi)\n",
    "print(lossi[-1])"
   ]
  },
  {
   "cell_type": "code",
   "execution_count": null,
   "id": "632e516a",
   "metadata": {},
   "outputs": [],
   "source": [
    "g=torch.Generator().manual_seed(2147483647+10)\n",
    "print(batch_size)\n",
    "for _ in range(20):\n",
    "    out=[]\n",
    "    context=[0]*3\n",
    "    while True:\n",
    "        emb=C[torch.tensor([context])]\n",
    "        h=torch.tanh(emb.view(1,-1)@W1+b1)\n",
    "        logits=h@W2+b2\n",
    "        probs=F.softmax(logits,dim=1)\n",
    "        ix=torch.multinomial(probs,num_samples=1,generator=g).item()\n",
    "        context=context[1:]+[ix]\n",
    "        out.append(ix)\n",
    "        if ix ==0 :\n",
    "            break\n",
    "    print(\"\".join(itos[i] for i in out))"
   ]
  }
 ],
 "metadata": {
  "kernelspec": {
   "display_name": "myenv",
   "language": "python",
   "name": "python3"
  },
  "language_info": {
   "codemirror_mode": {
    "name": "ipython",
    "version": 3
   },
   "file_extension": ".py",
   "mimetype": "text/x-python",
   "name": "python",
   "nbconvert_exporter": "python",
   "pygments_lexer": "ipython3",
   "version": "3.9.21"
  }
 },
 "nbformat": 4,
 "nbformat_minor": 5
}
