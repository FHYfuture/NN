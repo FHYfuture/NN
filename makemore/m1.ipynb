{
 "cells": [
  {
   "cell_type": "code",
   "execution_count": null,
   "id": "5871c0d9",
   "metadata": {},
   "outputs": [],
   "source": [
    "import torch"
   ]
  },
  {
   "cell_type": "code",
   "execution_count": null,
   "id": "dfd35f6b",
   "metadata": {},
   "outputs": [],
   "source": [
    "words=open(\"names.txt\",\"r\").read().splitlines()\n",
    "b={}\n",
    "for w in words:\n",
    "    w='.'+w+'.'\n",
    "    for ch1,ch2 in zip(w,w[1:]):\n",
    "        pair=(ch1,ch2)\n",
    "        b[pair]=b.get(pair,0)+1"
   ]
  },
  {
   "cell_type": "code",
   "execution_count": null,
   "id": "f42f1f79",
   "metadata": {},
   "outputs": [],
   "source": [
    "chars=sorted(list(set(''.join(words))))\n",
    "chars=['.']+chars\n",
    "stoi={s:i for i,s in enumerate(chars)}\n",
    "itos={i:s for s,i in stoi.items()}"
   ]
  },
  {
   "cell_type": "code",
   "execution_count": null,
   "id": "8e99dad0",
   "metadata": {},
   "outputs": [],
   "source": [
    "N=torch.zeros((27,27),dtype=torch.int32)\n",
    "for key in b.keys():\n",
    "    ix1=stoi[key[0]]\n",
    "    ix2=stoi[key[1]]\n",
    "    N[ix1,ix2]=b[key]\n",
    "N"
   ]
  },
  {
   "cell_type": "code",
   "execution_count": null,
   "id": "0a415b64",
   "metadata": {},
   "outputs": [],
   "source": [
    "prob=N/N.sum(dim=1,keepdim=True)\n",
    "g=torch.Generator().manual_seed(2147483647)\n",
    "ix=torch.multinomial(prob[0],num_samples=1,replacement=True,generator=g).item()"
   ]
  },
  {
   "cell_type": "code",
   "execution_count": null,
   "id": "82b306d4",
   "metadata": {},
   "outputs": [],
   "source": [
    "g=torch.Generator().manual_seed(2147483647)\n",
    "for i in range(5):\n",
    "    out=''\n",
    "    ix=0\n",
    "    while True:\n",
    "        p=prob[ix]\n",
    "        ix=torch.multinomial(p,1,True,generator=g).item()\n",
    "        if not ix:\n",
    "            break\n",
    "        out+=itos[ix]\n",
    "    print(out)\n",
    "        \n"
   ]
  },
  {
   "cell_type": "code",
   "execution_count": null,
   "id": "aa591f2c",
   "metadata": {},
   "outputs": [],
   "source": [
    "import torch.nn.functional as F"
   ]
  },
  {
   "cell_type": "code",
   "execution_count": null,
   "id": "50161105",
   "metadata": {},
   "outputs": [],
   "source": [
    "xs=[]\n",
    "ys=[]\n",
    "for w in words:\n",
    "    chs='.'+w+'.'\n",
    "    for ch1,ch2 in zip(chs,chs[1:]):\n",
    "        ix1=stoi[ch1]\n",
    "        ix2=stoi[ch2]\n",
    "        print(ch1,ch2)\n",
    "        xs.append(ix1)\n",
    "        ys.append(ix2)\n",
    "xs=torch.tensor(xs)\n",
    "ys=torch.tensor(ys)\n"
   ]
  },
  {
   "cell_type": "code",
   "execution_count": null,
   "id": "be34e224",
   "metadata": {},
   "outputs": [],
   "source": [
    "xenc=F.one_hot(xs,num_classes=27).float()\n",
    "xenc"
   ]
  },
  {
   "cell_type": "code",
   "execution_count": null,
   "id": "e245e163",
   "metadata": {},
   "outputs": [],
   "source": [
    "import matplotlib.pyplot as plt\n",
    "plt.imshow(xenc[0:50])"
   ]
  },
  {
   "cell_type": "code",
   "execution_count": null,
   "id": "d452682b",
   "metadata": {},
   "outputs": [],
   "source": [
    "g = torch.Generator().manual_seed(2147483647)\n",
    "W = torch.randn((27, 27), generator=g, requires_grad=True)\n",
    "lr=50\n",
    "num=xs.nelement()\n"
   ]
  },
  {
   "cell_type": "code",
   "execution_count": null,
   "id": "2bb99a5e",
   "metadata": {},
   "outputs": [],
   "source": [
    "for k in range(100):\n",
    "    logits=xenc @ W\n",
    "    fcount=logits.exp()\n",
    "    P=fcount/fcount.sum(dim=1,keepdim=True)\n",
    "    loss=-(P[torch.arange(num),ys]).log().mean()+0.01*(W**2).mean()  #L2正则损失\n",
    "    print(loss)\n",
    "    W.grad=None\n",
    "    loss.backward()\n",
    "    W.data-=lr*W.grad"
   ]
  },
  {
   "cell_type": "code",
   "execution_count": null,
   "id": "f1899aff",
   "metadata": {},
   "outputs": [],
   "source": [
    "g = torch.Generator().manual_seed(2147483647)\n",
    "for k in range(5):\n",
    "    ix=0\n",
    "    out=''\n",
    "    while True:\n",
    "        xen=F.one_hot(torch.tensor([ix]),num_classes=27).float()\n",
    "        logi=xen @ W\n",
    "        fc=logi.exp()\n",
    "        p=fc/fc.sum()\n",
    "        ix=torch.multinomial(p,1,replacement=True,generator=g).item()\n",
    "        if not ix:\n",
    "            break\n",
    "        out+=itos[ix]\n",
    "    print(out)"
   ]
  }
 ],
 "metadata": {
  "kernelspec": {
   "display_name": "myenv",
   "language": "python",
   "name": "python3"
  },
  "language_info": {
   "codemirror_mode": {
    "name": "ipython",
    "version": 3
   },
   "file_extension": ".py",
   "mimetype": "text/x-python",
   "name": "python",
   "nbconvert_exporter": "python",
   "pygments_lexer": "ipython3",
   "version": "3.9.21"
  }
 },
 "nbformat": 4,
 "nbformat_minor": 5
}
